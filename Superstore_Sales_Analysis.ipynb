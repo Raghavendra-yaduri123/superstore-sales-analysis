{
 "cells": [
  {
   "cell_type": "markdown",
   "id": "67a5d17d",
   "metadata": {},
   "source": [
    "# 📊 Superstore Sales Data Analysis\n",
    "\n",
    "This notebook performs data cleaning, EDA, and visualizations using **pandas** and **matplotlib**."
   ]
  },
  {
   "cell_type": "code",
   "execution_count": null,
   "id": "f8bfc4d5",
   "metadata": {},
   "outputs": [],
   "source": [
    "import pandas as pd\n",
    "import matplotlib.pyplot as plt\n",
    "import os\n",
    "from pathlib import Path\n",
    "\n",
    "BASE_DIR = Path('.').resolve()\n",
    "FIG_DIR = BASE_DIR / 'figures'\n",
    "FIG_DIR.mkdir(exist_ok=True)\n",
    "\n",
    "df = pd.read_csv('superstore_sales.csv')\n",
    "df['Order Date'] = pd.to_datetime(df['Order Date'], errors='coerce')\n",
    "df['Ship Date'] = pd.to_datetime(df['Ship Date'], errors='coerce')\n",
    "df = df.dropna(subset=['Order Date','Ship Date','Sales','Profit'])\n",
    "df.head()"
   ]
  },
  {
   "cell_type": "markdown",
   "id": "2a70230a",
   "metadata": {},
   "source": [
    "## Key KPIs"
   ]
  },
  {
   "cell_type": "code",
   "execution_count": null,
   "id": "6cd05a85",
   "metadata": {},
   "outputs": [],
   "source": [
    "total_sales = df['Sales'].sum()\n",
    "total_profit = df['Profit'].sum()\n",
    "avg_discount = df['Discount'].mean()\n",
    "print(f'Total Sales: ${total_sales:,.2f}')\n",
    "print(f'Total Profit: ${total_profit:,.2f}')\n",
    "print(f'Average Discount: {avg_discount:.2%}')"
   ]
  },
  {
   "cell_type": "markdown",
   "id": "7e4929f3",
   "metadata": {},
   "source": [
    "## Monthly Sales Trend"
   ]
  },
  {
   "cell_type": "code",
   "execution_count": null,
   "id": "6c0c3f8b",
   "metadata": {},
   "outputs": [],
   "source": [
    "monthly = df.groupby(df['Order Date'].dt.to_period('M'))['Sales'].sum().sort_index()\n",
    "plt.figure(figsize=(10,5))\n",
    "monthly.index = monthly.index.astype(str)\n",
    "plt.plot(monthly.index, monthly.values, marker='o')\n",
    "plt.title('Monthly Sales Trend')\n",
    "plt.xlabel('Month')\n",
    "plt.ylabel('Sales')\n",
    "plt.xticks(rotation=45, ha='right')\n",
    "plt.tight_layout()\n",
    "plt.savefig('figures/monthly_sales_trend.png')\n",
    "plt.show()"
   ]
  },
  {
   "cell_type": "markdown",
   "id": "288230ca",
   "metadata": {},
   "source": [
    "## Top 10 States by Sales"
   ]
  },
  {
   "cell_type": "code",
   "execution_count": null,
   "id": "9cd89486",
   "metadata": {},
   "outputs": [],
   "source": [
    "top_states = df.groupby('State')['Sales'].sum().sort_values(ascending=False).head(10)\n",
    "plt.figure(figsize=(10,5))\n",
    "plt.bar(top_states.index, top_states.values)\n",
    "plt.title('Top 10 States by Sales')\n",
    "plt.xlabel('State')\n",
    "plt.ylabel('Sales')\n",
    "plt.xticks(rotation=45, ha='right')\n",
    "plt.tight_layout()\n",
    "plt.savefig('figures/top_states_sales.png')\n",
    "plt.show()"
   ]
  },
  {
   "cell_type": "markdown",
   "id": "dce4db75",
   "metadata": {},
   "source": [
    "## Profit by Category & Region (Heatmap)"
   ]
  },
  {
   "cell_type": "code",
   "execution_count": null,
   "id": "a2892e51",
   "metadata": {},
   "outputs": [],
   "source": [
    "pivot = df.pivot_table(values='Profit', index='Category', columns='Region', aggfunc='sum').fillna(0)\n",
    "plt.figure(figsize=(8,5))\n",
    "plt.pcolor(pivot.values)\n",
    "plt.title('Profit by Category & Region')\n",
    "plt.xlabel('Region')\n",
    "plt.ylabel('Category')\n",
    "plt.xticks(range(len(pivot.columns)), pivot.columns)\n",
    "plt.yticks([i+0.5 for i in range(len(pivot.index))], pivot.index)\n",
    "plt.colorbar(label='Profit')\n",
    "plt.tight_layout()\n",
    "plt.savefig('figures/profit_category_region_heatmap.png')\n",
    "plt.show()"
   ]
  },
  {
   "cell_type": "markdown",
   "id": "cf77278c",
   "metadata": {},
   "source": [
    "## Segment-wise Sales Distribution (Pie)"
   ]
  },
  {
   "cell_type": "code",
   "execution_count": null,
   "id": "239bf908",
   "metadata": {},
   "outputs": [],
   "source": [
    "segment_sales = df.groupby('Segment')['Sales'].sum()\n",
    "plt.figure(figsize=(6,6))\n",
    "plt.pie(segment_sales.values, labels=segment_sales.index, autopct='%1.1f%%', startangle=90)\n",
    "plt.title('Segment-wise Sales Distribution')\n",
    "plt.tight_layout()\n",
    "plt.savefig('figures/segment_sales_pie.png')\n",
    "plt.show()"
   ]
  }
 ],
 "metadata": {},
 "nbformat": 4,
 "nbformat_minor": 5
}
